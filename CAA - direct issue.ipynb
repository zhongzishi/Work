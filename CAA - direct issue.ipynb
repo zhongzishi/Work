{
 "cells": [
  {
   "cell_type": "code",
   "execution_count": 36,
   "metadata": {},
   "outputs": [],
   "source": [
    "import numpy as np\n",
    "import pandas as pd\n",
    "import matplotlib.pyplot as plt\n",
    "import seaborn as sns\n",
    "sns.set_style(\"darkgrid\")\n",
    "%matplotlib inline"
   ]
  },
  {
   "cell_type": "code",
   "execution_count": 37,
   "metadata": {},
   "outputs": [
    {
     "data": {
      "text/html": [
       "<div>\n",
       "<style>\n",
       "    .dataframe thead tr:only-child th {\n",
       "        text-align: right;\n",
       "    }\n",
       "\n",
       "    .dataframe thead th {\n",
       "        text-align: left;\n",
       "    }\n",
       "\n",
       "    .dataframe tbody tr th {\n",
       "        vertical-align: top;\n",
       "    }\n",
       "</style>\n",
       "<table border=\"1\" class=\"dataframe\">\n",
       "  <thead>\n",
       "    <tr style=\"text-align: right;\">\n",
       "      <th></th>\n",
       "      <th>Product</th>\n",
       "      <th>Type</th>\n",
       "      <th>Year</th>\n",
       "      <th>Product Revenue</th>\n",
       "      <th>Unique Purchases</th>\n",
       "      <th>Quantity</th>\n",
       "    </tr>\n",
       "  </thead>\n",
       "  <tbody>\n",
       "    <tr>\n",
       "      <th>0</th>\n",
       "      <td>Montreal-Holguin-PARADISUS RIO DE ORO RESORT A...</td>\n",
       "      <td>Forfait</td>\n",
       "      <td>2017</td>\n",
       "      <td>57320.00</td>\n",
       "      <td>18</td>\n",
       "      <td>36</td>\n",
       "    </tr>\n",
       "    <tr>\n",
       "      <th>1</th>\n",
       "      <td>Montreal-Holguin-PARADISUS RIO DE ORO RESORT A...</td>\n",
       "      <td>Forfait</td>\n",
       "      <td>2016</td>\n",
       "      <td>0.00</td>\n",
       "      <td>0</td>\n",
       "      <td>0</td>\n",
       "    </tr>\n",
       "    <tr>\n",
       "      <th>2</th>\n",
       "      <td>Montreal-Paris</td>\n",
       "      <td>Vol</td>\n",
       "      <td>2017</td>\n",
       "      <td>52745.22</td>\n",
       "      <td>34</td>\n",
       "      <td>58</td>\n",
       "    </tr>\n",
       "    <tr>\n",
       "      <th>3</th>\n",
       "      <td>Montreal-Paris</td>\n",
       "      <td>Vol</td>\n",
       "      <td>2016</td>\n",
       "      <td>30194.42</td>\n",
       "      <td>25</td>\n",
       "      <td>36</td>\n",
       "    </tr>\n",
       "    <tr>\n",
       "      <th>4</th>\n",
       "      <td>CAA Plus</td>\n",
       "      <td>Nouvelle-adhésion</td>\n",
       "      <td>2017</td>\n",
       "      <td>36545.85</td>\n",
       "      <td>233</td>\n",
       "      <td>233</td>\n",
       "    </tr>\n",
       "  </tbody>\n",
       "</table>\n",
       "</div>"
      ],
      "text/plain": [
       "                                             Product               Type  Year  \\\n",
       "0  Montreal-Holguin-PARADISUS RIO DE ORO RESORT A...            Forfait  2017   \n",
       "1  Montreal-Holguin-PARADISUS RIO DE ORO RESORT A...            Forfait  2016   \n",
       "2                                     Montreal-Paris                Vol  2017   \n",
       "3                                     Montreal-Paris                Vol  2016   \n",
       "4                                           CAA Plus  Nouvelle-adhésion  2017   \n",
       "\n",
       "   Product Revenue  Unique Purchases  Quantity  \n",
       "0         57320.00                18        36  \n",
       "1             0.00                 0         0  \n",
       "2         52745.22                34        58  \n",
       "3         30194.42                25        36  \n",
       "4         36545.85               233       233  "
      ]
     },
     "execution_count": 37,
     "metadata": {},
     "output_type": "execute_result"
    }
   ],
   "source": [
    "all_df = pd.read_excel(r\"directProductPerformance.xlsx\",sheetname=\"All users\")\n",
    "all_df['Product Revenue'] = all_df['Product Revenue'].round(decimals=2)\n",
    "all_df.drop([\"Avg. Price\",\"Avg. QTY\"],axis=1,inplace=True)\n",
    "all_df.head()"
   ]
  },
  {
   "cell_type": "code",
   "execution_count": 38,
   "metadata": {},
   "outputs": [
    {
     "data": {
      "text/plain": [
       "array(['Forfait', 'Vol', 'CAA Membership'], dtype=object)"
      ]
     },
     "execution_count": 38,
     "metadata": {},
     "output_type": "execute_result"
    }
   ],
   "source": [
    "fusionlist = [\"Adhésion-cadeau-nonmembre\",\"Ajout-modification\",\"Nouvelle-adhésion\",\"Renouvellement\",\n",
    "              \"adhésion-associe-cadeau-membre\", \"adhésion-cadeau-membre\"]\n",
    "def rename(name):\n",
    "    if name in fusionlist:\n",
    "        return \"CAA Membership\"\n",
    "    else:\n",
    "        return name\n",
    "\n",
    "all_df[\"Type\"] = all_df[\"Type\"].apply(rename)\n",
    "all_df[\"Type\"].unique()"
   ]
  },
  {
   "cell_type": "code",
   "execution_count": 39,
   "metadata": {},
   "outputs": [
    {
     "data": {
      "text/html": [
       "<div>\n",
       "<style>\n",
       "    .dataframe thead tr:only-child th {\n",
       "        text-align: right;\n",
       "    }\n",
       "\n",
       "    .dataframe thead th {\n",
       "        text-align: left;\n",
       "    }\n",
       "\n",
       "    .dataframe tbody tr th {\n",
       "        vertical-align: top;\n",
       "    }\n",
       "</style>\n",
       "<table border=\"1\" class=\"dataframe\">\n",
       "  <thead>\n",
       "    <tr style=\"text-align: right;\">\n",
       "      <th></th>\n",
       "      <th>Product</th>\n",
       "      <th>Type</th>\n",
       "      <th>Year</th>\n",
       "      <th>Product Revenue</th>\n",
       "      <th>Unique Purchases</th>\n",
       "      <th>Quantity</th>\n",
       "    </tr>\n",
       "  </thead>\n",
       "  <tbody>\n",
       "    <tr>\n",
       "      <th>0</th>\n",
       "      <td>Montreal-Varadero-IBEROSTAR LAGUNA AZUL</td>\n",
       "      <td>Forfait</td>\n",
       "      <td>2017</td>\n",
       "      <td>193101.34</td>\n",
       "      <td>47</td>\n",
       "      <td>190</td>\n",
       "    </tr>\n",
       "    <tr>\n",
       "      <th>1</th>\n",
       "      <td>Montreal-Varadero-IBEROSTAR LAGUNA AZUL</td>\n",
       "      <td>Forfait</td>\n",
       "      <td>2016</td>\n",
       "      <td>0.00</td>\n",
       "      <td>0</td>\n",
       "      <td>0</td>\n",
       "    </tr>\n",
       "    <tr>\n",
       "      <th>2</th>\n",
       "      <td>Montreal-Cancun-GRAND SUNSET PRINCESS ALL SUIT...</td>\n",
       "      <td>Forfait</td>\n",
       "      <td>2017</td>\n",
       "      <td>132413.70</td>\n",
       "      <td>24</td>\n",
       "      <td>47</td>\n",
       "    </tr>\n",
       "    <tr>\n",
       "      <th>3</th>\n",
       "      <td>Montreal-Cancun-GRAND SUNSET PRINCESS ALL SUIT...</td>\n",
       "      <td>Forfait</td>\n",
       "      <td>2016</td>\n",
       "      <td>0.00</td>\n",
       "      <td>0</td>\n",
       "      <td>0</td>\n",
       "    </tr>\n",
       "    <tr>\n",
       "      <th>4</th>\n",
       "      <td>Ottawa-Punta Cana-PUJ BREATHLESS PUNTA CANA RE...</td>\n",
       "      <td>Forfait</td>\n",
       "      <td>2017</td>\n",
       "      <td>117916.89</td>\n",
       "      <td>24</td>\n",
       "      <td>47</td>\n",
       "    </tr>\n",
       "  </tbody>\n",
       "</table>\n",
       "</div>"
      ],
      "text/plain": [
       "                                             Product     Type  Year  \\\n",
       "0            Montreal-Varadero-IBEROSTAR LAGUNA AZUL  Forfait  2017   \n",
       "1            Montreal-Varadero-IBEROSTAR LAGUNA AZUL  Forfait  2016   \n",
       "2  Montreal-Cancun-GRAND SUNSET PRINCESS ALL SUIT...  Forfait  2017   \n",
       "3  Montreal-Cancun-GRAND SUNSET PRINCESS ALL SUIT...  Forfait  2016   \n",
       "4  Ottawa-Punta Cana-PUJ BREATHLESS PUNTA CANA RE...  Forfait  2017   \n",
       "\n",
       "   Product Revenue  Unique Purchases  Quantity  \n",
       "0        193101.34                47       190  \n",
       "1             0.00                 0         0  \n",
       "2        132413.70                24        47  \n",
       "3             0.00                 0         0  \n",
       "4        117916.89                24        47  "
      ]
     },
     "execution_count": 39,
     "metadata": {},
     "output_type": "execute_result"
    }
   ],
   "source": [
    "direct_df = pd.read_excel(r\"directProductPerformance.xlsx\",sheetname=\"Direct\")\n",
    "direct_df['Product Revenue'] = direct_df['Product Revenue'].round(decimals=2)\n",
    "direct_df.drop([\"Avg. Price\",\"Avg. QTY\"],axis=1,inplace=True)\n",
    "direct_df.head()"
   ]
  },
  {
   "cell_type": "code",
   "execution_count": 40,
   "metadata": {},
   "outputs": [
    {
     "data": {
      "text/plain": [
       "array(['Forfait', 'Vol', 'CAA Membership'], dtype=object)"
      ]
     },
     "execution_count": 40,
     "metadata": {},
     "output_type": "execute_result"
    }
   ],
   "source": [
    "direct_df[\"Type\"] = direct_df[\"Type\"].apply(rename)\n",
    "direct_df[\"Type\"].unique()"
   ]
  },
  {
   "cell_type": "code",
   "execution_count": 41,
   "metadata": {},
   "outputs": [
    {
     "data": {
      "text/plain": [
       "<matplotlib.text.Text at 0x29edd5fd400>"
      ]
     },
     "execution_count": 41,
     "metadata": {},
     "output_type": "execute_result"
    },
    {
     "data": {
      "image/png": "[encoded data removed]",
      "text/plain": [
       "<matplotlib.figure.Figure at 0x29edd38eac8>"
      ]
     },
     "metadata": {},
     "output_type": "display_data"
    }
   ],
   "source": [
    "f,(ax1,ax2) = plt.subplots(1,2,sharey=True,figsize=(16,6))\n",
    "#ax1.set_xticklabels(rotation=50)\n",
    "sns.barplot(\"Type\",\"Product Revenue\",hue=\"Year\",data=all_df,ax=ax1,estimator=sum,ci=None)\n",
    "ax1.set_title(\"All Channels\")\n",
    "sns.barplot(\"Type\",\"Product Revenue\",hue=\"Year\",data=direct_df,ax=ax2,estimator=sum,ci=None)\n",
    "ax2.set_title(\"Direct Channel\")"
   ]
  },
  {
   "cell_type": "code",
   "execution_count": null,
   "metadata": {
    "collapsed": true
   },
   "outputs": [],
   "source": []
  }
 ],
 "metadata": {
  "kernelspec": {
   "display_name": "Python 3",
   "language": "python",
   "name": "python3"
  },
  "language_info": {
   "codemirror_mode": {
    "name": "ipython",
    "version": 3
   },
   "file_extension": ".py",
   "mimetype": "text/x-python",
   "name": "python",
   "nbconvert_exporter": "python",
   "pygments_lexer": "ipython3",
   "version": "3.6.2"
  }
 },
 "nbformat": 4,
 "nbformat_minor": 2
}
